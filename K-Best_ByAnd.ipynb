{
 "cells": [
  {
   "cell_type": "markdown",
   "metadata": {},
   "source": [
    "<h1>Classifying Breast Cancer Dataset - K-Best for feature selection</h1>\n",
    "\n",
    "Problem: Is practicable to use Select K-Best with this dataset?\n",
    "\n",
    "<p>Link: https://archive.ics.uci.edu/ml/datasets/Breast+Cancer</p>\n",
    "\n",
    "<hr>"
   ]
  },
  {
   "cell_type": "markdown",
   "metadata": {},
   "source": [
    "<h2>1. Collect data</h2>\n",
    "\n",
    "<p>Data is standardized:</p>\n",
    "\n",
    "<ul>\n",
    "<li>a) Normal distribution standardization.</li>\n",
    "<li>b) Missing values were kept to zero.</li>\n",
    "</ul>"
   ]
  },
  {
   "cell_type": "code",
   "execution_count": 114,
   "metadata": {},
   "outputs": [],
   "source": [
    "import pandas as pd\n",
    "\n",
    "features = ['class','age','menopause','tumor-size','inv-nodes','node-caps','deg-malig','breast','irradiat']\n",
    "filename = 'dataset-standardized.csv'\n",
    "breast_cancer_dataset = pd.read_csv(filename, names=features)"
   ]
  },
  {
   "cell_type": "markdown",
   "metadata": {},
   "source": [
    "<h2>2. Choose features (using K-Best)</h2>\n",
    "\n",
    "<p>Output: best features.</p>"
   ]
  },
  {
   "cell_type": "code",
   "execution_count": 115,
   "metadata": {},
   "outputs": [
    {
     "name": "stdout",
     "output_type": "stream",
     "text": [
      "Selected features:\n",
      "\n",
      "node-caps\n",
      "deg-malig\n"
     ]
    }
   ],
   "source": [
    "from sklearn.feature_selection import SelectKBest, f_classif\n",
    "\n",
    "def KBest(df: pd.DataFrame, score_func, k):\n",
    "    y = df['class']\n",
    "    breast_cancer_dataset = df.drop('class', 1)\n",
    "    X = breast_cancer_dataset\n",
    "\n",
    "    selector = SelectKBest(score_func, k) \n",
    "    selector.fit(X,y)\n",
    "    features = selector.get_support(indices=True)\n",
    "    \n",
    "    best_features = list() \n",
    "    best_features = features\n",
    "    \n",
    "    print(\"Selected features:\\n\")\n",
    "    \n",
    "    for best_feature in best_features:\n",
    "        print(list(X)[best_feature])\n",
    "\n",
    "KBest(breast_cancer_dataset, f_classif, 2) # dataset, score-function, number of top features to select"
   ]
  }
 ],
 "metadata": {
  "kernelspec": {
   "display_name": "Python 3",
   "language": "python",
   "name": "python3"
  },
  "language_info": {
   "codemirror_mode": {
    "name": "ipython",
    "version": 3
   },
   "file_extension": ".py",
   "mimetype": "text/x-python",
   "name": "python",
   "nbconvert_exporter": "python",
   "pygments_lexer": "ipython3",
   "version": "3.6.3"
  }
 },
 "nbformat": 4,
 "nbformat_minor": 2
}
